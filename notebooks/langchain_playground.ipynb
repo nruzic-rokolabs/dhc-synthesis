{
 "cells": [
  {
   "cell_type": "code",
   "execution_count": 1,
   "id": "9762a63a-9927-41a0-bc1e-72f286888ed9",
   "metadata": {},
   "outputs": [
    {
     "data": {
      "text/plain": [
       "StringPromptValue(text='Hello Nikola')"
      ]
     },
     "execution_count": 1,
     "metadata": {},
     "output_type": "execute_result"
    }
   ],
   "source": [
    "from langchain_core.prompts import PromptTemplate\n",
    "\n",
    "s_template = PromptTemplate.from_template(\"Hello {name}\")\n",
    "s_template.invoke({\"name\": \"Nikola\"})"
   ]
  },
  {
   "cell_type": "code",
   "execution_count": 6,
   "id": "494e866e-c10b-408f-bd20-e60e1f2a5634",
   "metadata": {},
   "outputs": [
    {
     "data": {
      "text/plain": [
       "ChatPromptValue(messages=[SystemMessage(content='Act as a sow expert', additional_kwargs={}, response_metadata={}), HumanMessage(content='Please generate sow for client Phiser', additional_kwargs={}, response_metadata={})])"
      ]
     },
     "execution_count": 6,
     "metadata": {},
     "output_type": "execute_result"
    }
   ],
   "source": [
    "from langchain_core.prompts import ChatPromptTemplate\n",
    "\n",
    "c_template = ChatPromptTemplate.from_messages([\n",
    "    (\"system\", \"Act as a sow expert\"),\n",
    "    (\"user\", \"Please generate sow for client {client}\")\n",
    "])\n",
    "c_template.invoke({\"client\": \"Phiser\"})"
   ]
  },
  {
   "cell_type": "code",
   "execution_count": 34,
   "id": "5d58ca51-010c-4d0d-89c8-7f121b31875e",
   "metadata": {},
   "outputs": [
    {
     "data": {
      "text/plain": [
       "ChatPromptValue(messages=[SystemMessage(content='Act as sow expert for client foo', additional_kwargs={}, response_metadata={}), HumanMessage(content='Create sow for me for client {client}', additional_kwargs={}, response_metadata={})])"
      ]
     },
     "execution_count": 34,
     "metadata": {},
     "output_type": "execute_result"
    }
   ],
   "source": [
    "from langchain_core.prompts import MessagesPlaceholder\n",
    "from langchain_core.messages import HumanMessage\n",
    "\n",
    "placeholder_template = ChatPromptTemplate.from_messages([\n",
    "    (\"system\", \"Act as sow expert for client {client}\"),\n",
    "    MessagesPlaceholder(\"my_msgs\")\n",
    "])\n",
    "\n",
    "placeholder_template.invoke({\"my_msgs\": [HumanMessage(content=\"Create sow for me for client {client}\")], \"client\": \"foo\"})"
   ]
  },
  {
   "cell_type": "code",
   "execution_count": 14,
   "id": "a4463a37-71c8-46ac-9dc9-3350b18b87a8",
   "metadata": {},
   "outputs": [],
   "source": [
    "from langchain_openai import ChatOpenAI\n",
    "\n",
    "model = ChatOpenAI(model=\"gpt-3.5-turbo\")"
   ]
  },
  {
   "cell_type": "code",
   "execution_count": 15,
   "id": "64729964-2f8d-488e-ac1b-712b454ebe85",
   "metadata": {},
   "outputs": [
    {
     "data": {
      "text/plain": [
       "AIMessage(content='Hello Bon! How can I assist you today?', additional_kwargs={'refusal': None}, response_metadata={'token_usage': {'completion_tokens': 10, 'prompt_tokens': 12, 'total_tokens': 22, 'completion_tokens_details': {'audio_tokens': None, 'reasoning_tokens': 0}, 'prompt_tokens_details': {'audio_tokens': None, 'cached_tokens': 0}}, 'model_name': 'gpt-3.5-turbo-0125', 'system_fingerprint': None, 'finish_reason': 'stop', 'logprobs': None}, id='run-af44d70c-2b75-4702-b5a2-9eef4512296d-0', usage_metadata={'input_tokens': 12, 'output_tokens': 10, 'total_tokens': 22, 'input_token_details': {'cache_read': 0}, 'output_token_details': {'reasoning': 0}})"
      ]
     },
     "execution_count": 15,
     "metadata": {},
     "output_type": "execute_result"
    }
   ],
   "source": [
    "model.invoke([HumanMessage(\"Hi! I'm Bon\")])"
   ]
  },
  {
   "cell_type": "code",
   "execution_count": 16,
   "id": "bf0a0b30-d613-4098-b632-3ddec9839b70",
   "metadata": {},
   "outputs": [
    {
     "data": {
      "text/plain": [
       "AIMessage(content=\"I'm sorry, I do not have the ability to know your name as I am an AI assistant.\", additional_kwargs={'refusal': None}, response_metadata={'token_usage': {'completion_tokens': 21, 'prompt_tokens': 12, 'total_tokens': 33, 'completion_tokens_details': {'audio_tokens': None, 'reasoning_tokens': 0}, 'prompt_tokens_details': {'audio_tokens': None, 'cached_tokens': 0}}, 'model_name': 'gpt-3.5-turbo-0125', 'system_fingerprint': None, 'finish_reason': 'stop', 'logprobs': None}, id='run-290dcdfd-391c-4b0a-b458-0a22952a0840-0', usage_metadata={'input_tokens': 12, 'output_tokens': 21, 'total_tokens': 33, 'input_token_details': {'cache_read': 0}, 'output_token_details': {'reasoning': 0}})"
      ]
     },
     "execution_count": 16,
     "metadata": {},
     "output_type": "execute_result"
    }
   ],
   "source": [
    "model.invoke([HumanMessage(\"What is my name?\")])"
   ]
  },
  {
   "cell_type": "code",
   "execution_count": 17,
   "id": "743b7ce9-a41b-40f2-a5cc-40a72337d829",
   "metadata": {},
   "outputs": [
    {
     "data": {
      "text/plain": [
       "AIMessage(content='Your name is Bon. How can I assist you today, Bon?', additional_kwargs={'refusal': None}, response_metadata={'token_usage': {'completion_tokens': 14, 'prompt_tokens': 35, 'total_tokens': 49, 'completion_tokens_details': {'audio_tokens': None, 'reasoning_tokens': 0}, 'prompt_tokens_details': {'audio_tokens': None, 'cached_tokens': 0}}, 'model_name': 'gpt-3.5-turbo-0125', 'system_fingerprint': None, 'finish_reason': 'stop', 'logprobs': None}, id='run-e5dbc2ec-1b9b-427a-9aa2-9c3c9456b512-0', usage_metadata={'input_tokens': 35, 'output_tokens': 14, 'total_tokens': 49, 'input_token_details': {'cache_read': 0}, 'output_token_details': {'reasoning': 0}})"
      ]
     },
     "execution_count": 17,
     "metadata": {},
     "output_type": "execute_result"
    }
   ],
   "source": [
    "from langchain_core.messages import AIMessage\n",
    "\n",
    "model.invoke([\n",
    "    HumanMessage(\"Hi! I'm Bon\"),\n",
    "    AIMessage(\"Hello Bon! How can I assist you today?\"),\n",
    "    HumanMessage(\"What is my name?\")\n",
    "])"
   ]
  },
  {
   "cell_type": "code",
   "execution_count": 46,
   "id": "3d78f12f-54a7-4800-9cd5-419e9742ca32",
   "metadata": {},
   "outputs": [],
   "source": [
    "from typing import Sequence\n",
    "\n",
    "from langgraph.checkpoint.memory import MemorySaver\n",
    "from langgraph.graph import START, MessagesState, StateGraph\n",
    "from langchain_core.messages import BaseMessage\n",
    "from langgraph.graph.message import add_messages\n",
    "from typing_extensions import Annotated, TypedDict\n",
    "\n",
    "\n",
    "class State(TypedDict):\n",
    "    messages: Annotated[Sequence[BaseMessage], add_messages]\n",
    "    language: str\n",
    "    \n",
    "\n",
    "# Define a new graph\n",
    "workflow = StateGraph(state_schema=State)\n",
    "\n",
    "\n",
    "# Define the function that calls the model\n",
    "def call_model(state: State):\n",
    "    chain = prompt | model\n",
    "    trimmed_messages = trimmer.invoke(state[\"messages\"])\n",
    "    response = chain.invoke(\n",
    "        {\"messages\": trimmed_messages, \"language\": state[\"language\"]}\n",
    "    )\n",
    "    return {\"messages\": [response]}\n",
    "\n",
    "\n",
    "# Define the (single) node in the graph\n",
    "workflow.add_edge(START, \"model\")\n",
    "workflow.add_node(\"model\", call_model)\n",
    "\n",
    "# Add memory\n",
    "memory = MemorySaver()\n",
    "app = workflow.compile(checkpointer=memory)"
   ]
  },
  {
   "cell_type": "code",
   "execution_count": 19,
   "id": "ff3d2209-2667-41d1-ae18-42d12c8d23d8",
   "metadata": {},
   "outputs": [],
   "source": [
    "config = {\"configurable\": {\"thread_id\": \"abc123\"}}"
   ]
  },
  {
   "cell_type": "code",
   "execution_count": 20,
   "id": "73e9a871-f05f-45e5-9952-66e31773be7d",
   "metadata": {},
   "outputs": [
    {
     "data": {
      "text/plain": [
       "{'messages': [HumanMessage(content=\"Hi! I'm Bob.\", additional_kwargs={}, response_metadata={}, id='c64c061b-b0f5-40c0-a899-d29e408b2eb2'),\n",
       "  AIMessage(content='Hi Bob! How can I assist you today?', additional_kwargs={'refusal': None}, response_metadata={'token_usage': {'completion_tokens': 10, 'prompt_tokens': 13, 'total_tokens': 23, 'completion_tokens_details': {'audio_tokens': None, 'reasoning_tokens': 0}, 'prompt_tokens_details': {'audio_tokens': None, 'cached_tokens': 0}}, 'model_name': 'gpt-3.5-turbo-0125', 'system_fingerprint': None, 'finish_reason': 'stop', 'logprobs': None}, id='run-cff9095c-b25a-4bf5-98a4-e6f4a269b446-0', usage_metadata={'input_tokens': 13, 'output_tokens': 10, 'total_tokens': 23, 'input_token_details': {'cache_read': 0}, 'output_token_details': {'reasoning': 0}})]}"
      ]
     },
     "execution_count": 20,
     "metadata": {},
     "output_type": "execute_result"
    }
   ],
   "source": [
    "query = \"Hi! I'm Bob.\"\n",
    "\n",
    "input_messages = [HumanMessage(query)]\n",
    "output = app.invoke({\"messages\": input_messages}, config)\n",
    "#output[\"messages\"][-1].pretty_print()  # output contains all messages in state\n",
    "output"
   ]
  },
  {
   "cell_type": "code",
   "execution_count": 24,
   "id": "cbb3aef9-fab1-4149-9c48-46fe89b5d00d",
   "metadata": {},
   "outputs": [
    {
     "name": "stdout",
     "output_type": "stream",
     "text": [
      "==================================\u001b[1m Ai Message \u001b[0m==================================\n",
      "\n",
      "Hi Bob! How can I assist you today?\n"
     ]
    }
   ],
   "source": [
    "output[\"messages\"][-1].pretty_print()"
   ]
  },
  {
   "cell_type": "code",
   "execution_count": 64,
   "id": "72ece4d8-b680-46db-95ce-d832507ad4ab",
   "metadata": {},
   "outputs": [],
   "source": [
    "def converse(thread_id: str, message_in: str):\n",
    "    messages_in = [HumanMessage(message_in)]\n",
    "    for chunk, metadata in app.stream({\n",
    "        \"messages\": messages_in,\n",
    "        \"language\": \"Spanish\"\n",
    "    }, {\n",
    "        \"configurable\": {\n",
    "            \"thread_id\": thread_id\n",
    "        }\n",
    "    },\n",
    "    stream_mode=\"messages\"                         \n",
    "    ):\n",
    "        print(f\"chunk: {chunk}\")\n",
    "        print(f\"metad: {metadata}\")\n",
    "        if isinstance(chunk, AIMessage):\n",
    "            yield chunk.content\n",
    "    #message_out: AIMessage = messages_out[\"messages\"][-1]\n",
    "    #return message_out.pretty_print()"
   ]
  },
  {
   "cell_type": "code",
   "execution_count": 65,
   "id": "17066e78-cd54-404b-9aaa-ffe75cda2898",
   "metadata": {},
   "outputs": [
    {
     "name": "stdout",
     "output_type": "stream",
     "text": [
      "chunk: content='What is my name?' additional_kwargs={} response_metadata={} id='72e91546-2167-41f2-aba7-937888809492'\n",
      "metad: {'thread_id': 'user_a_chat_3', 'langgraph_step': 36, 'langgraph_node': '__start__', 'langgraph_triggers': ['__start__'], 'langgraph_path': ('__pregel_pull', '__start__'), 'langgraph_checkpoint_ns': '__start__:8139dc4f-ebc2-a6a3-62f0-3d5eead7a76e'}\n",
      "chunk: content='' additional_kwargs={} response_metadata={} id='run-a2127420-f9ca-4a5c-9801-b998fab184b4'\n",
      "metad: {'thread_id': 'user_a_chat_3', 'langgraph_step': 37, 'langgraph_node': 'model', 'langgraph_triggers': ['start:model'], 'langgraph_path': ('__pregel_pull', 'model'), 'langgraph_checkpoint_ns': 'model:3736d1c4-b35f-f088-d80c-55114248dcf5', 'checkpoint_ns': 'model:3736d1c4-b35f-f088-d80c-55114248dcf5', 'ls_provider': 'openai', 'ls_model_name': 'gpt-3.5-turbo', 'ls_model_type': 'chat', 'ls_temperature': 0.7}\n",
      "\n",
      "chunk: content='T' additional_kwargs={} response_metadata={} id='run-a2127420-f9ca-4a5c-9801-b998fab184b4'\n",
      "metad: {'thread_id': 'user_a_chat_3', 'langgraph_step': 37, 'langgraph_node': 'model', 'langgraph_triggers': ['start:model'], 'langgraph_path': ('__pregel_pull', 'model'), 'langgraph_checkpoint_ns': 'model:3736d1c4-b35f-f088-d80c-55114248dcf5', 'checkpoint_ns': 'model:3736d1c4-b35f-f088-d80c-55114248dcf5', 'ls_provider': 'openai', 'ls_model_name': 'gpt-3.5-turbo', 'ls_model_type': 'chat', 'ls_temperature': 0.7}\n",
      "T\n",
      "chunk: content='vo' additional_kwargs={} response_metadata={} id='run-a2127420-f9ca-4a5c-9801-b998fab184b4'\n",
      "metad: {'thread_id': 'user_a_chat_3', 'langgraph_step': 37, 'langgraph_node': 'model', 'langgraph_triggers': ['start:model'], 'langgraph_path': ('__pregel_pull', 'model'), 'langgraph_checkpoint_ns': 'model:3736d1c4-b35f-f088-d80c-55114248dcf5', 'checkpoint_ns': 'model:3736d1c4-b35f-f088-d80c-55114248dcf5', 'ls_provider': 'openai', 'ls_model_name': 'gpt-3.5-turbo', 'ls_model_type': 'chat', 'ls_temperature': 0.7}\n",
      "vo\n",
      "chunk: content='je' additional_kwargs={} response_metadata={} id='run-a2127420-f9ca-4a5c-9801-b998fab184b4'\n",
      "metad: {'thread_id': 'user_a_chat_3', 'langgraph_step': 37, 'langgraph_node': 'model', 'langgraph_triggers': ['start:model'], 'langgraph_path': ('__pregel_pull', 'model'), 'langgraph_checkpoint_ns': 'model:3736d1c4-b35f-f088-d80c-55114248dcf5', 'checkpoint_ns': 'model:3736d1c4-b35f-f088-d80c-55114248dcf5', 'ls_provider': 'openai', 'ls_model_name': 'gpt-3.5-turbo', 'ls_model_type': 'chat', 'ls_temperature': 0.7}\n",
      "je\n",
      "chunk: content=' ime' additional_kwargs={} response_metadata={} id='run-a2127420-f9ca-4a5c-9801-b998fab184b4'\n",
      "metad: {'thread_id': 'user_a_chat_3', 'langgraph_step': 37, 'langgraph_node': 'model', 'langgraph_triggers': ['start:model'], 'langgraph_path': ('__pregel_pull', 'model'), 'langgraph_checkpoint_ns': 'model:3736d1c4-b35f-f088-d80c-55114248dcf5', 'checkpoint_ns': 'model:3736d1c4-b35f-f088-d80c-55114248dcf5', 'ls_provider': 'openai', 'ls_model_name': 'gpt-3.5-turbo', 'ls_model_type': 'chat', 'ls_temperature': 0.7}\n",
      " ime\n",
      "chunk: content=' je' additional_kwargs={} response_metadata={} id='run-a2127420-f9ca-4a5c-9801-b998fab184b4'\n",
      "metad: {'thread_id': 'user_a_chat_3', 'langgraph_step': 37, 'langgraph_node': 'model', 'langgraph_triggers': ['start:model'], 'langgraph_path': ('__pregel_pull', 'model'), 'langgraph_checkpoint_ns': 'model:3736d1c4-b35f-f088-d80c-55114248dcf5', 'checkpoint_ns': 'model:3736d1c4-b35f-f088-d80c-55114248dcf5', 'ls_provider': 'openai', 'ls_model_name': 'gpt-3.5-turbo', 'ls_model_type': 'chat', 'ls_temperature': 0.7}\n",
      " je\n",
      "chunk: content=' Nikola' additional_kwargs={} response_metadata={} id='run-a2127420-f9ca-4a5c-9801-b998fab184b4'\n",
      "metad: {'thread_id': 'user_a_chat_3', 'langgraph_step': 37, 'langgraph_node': 'model', 'langgraph_triggers': ['start:model'], 'langgraph_path': ('__pregel_pull', 'model'), 'langgraph_checkpoint_ns': 'model:3736d1c4-b35f-f088-d80c-55114248dcf5', 'checkpoint_ns': 'model:3736d1c4-b35f-f088-d80c-55114248dcf5', 'ls_provider': 'openai', 'ls_model_name': 'gpt-3.5-turbo', 'ls_model_type': 'chat', 'ls_temperature': 0.7}\n",
      " Nikola\n",
      "chunk: content=',' additional_kwargs={} response_metadata={} id='run-a2127420-f9ca-4a5c-9801-b998fab184b4'\n",
      "metad: {'thread_id': 'user_a_chat_3', 'langgraph_step': 37, 'langgraph_node': 'model', 'langgraph_triggers': ['start:model'], 'langgraph_path': ('__pregel_pull', 'model'), 'langgraph_checkpoint_ns': 'model:3736d1c4-b35f-f088-d80c-55114248dcf5', 'checkpoint_ns': 'model:3736d1c4-b35f-f088-d80c-55114248dcf5', 'ls_provider': 'openai', 'ls_model_name': 'gpt-3.5-turbo', 'ls_model_type': 'chat', 'ls_temperature': 0.7}\n",
      ",\n",
      "chunk: content=' kap' additional_kwargs={} response_metadata={} id='run-a2127420-f9ca-4a5c-9801-b998fab184b4'\n",
      "metad: {'thread_id': 'user_a_chat_3', 'langgraph_step': 37, 'langgraph_node': 'model', 'langgraph_triggers': ['start:model'], 'langgraph_path': ('__pregel_pull', 'model'), 'langgraph_checkpoint_ns': 'model:3736d1c4-b35f-f088-d80c-55114248dcf5', 'checkpoint_ns': 'model:3736d1c4-b35f-f088-d80c-55114248dcf5', 'ls_provider': 'openai', 'ls_model_name': 'gpt-3.5-turbo', 'ls_model_type': 'chat', 'ls_temperature': 0.7}\n",
      " kap\n",
      "chunk: content='et' additional_kwargs={} response_metadata={} id='run-a2127420-f9ca-4a5c-9801-b998fab184b4'\n",
      "metad: {'thread_id': 'user_a_chat_3', 'langgraph_step': 37, 'langgraph_node': 'model', 'langgraph_triggers': ['start:model'], 'langgraph_path': ('__pregel_pull', 'model'), 'langgraph_checkpoint_ns': 'model:3736d1c4-b35f-f088-d80c-55114248dcf5', 'checkpoint_ns': 'model:3736d1c4-b35f-f088-d80c-55114248dcf5', 'ls_provider': 'openai', 'ls_model_name': 'gpt-3.5-turbo', 'ls_model_type': 'chat', 'ls_temperature': 0.7}\n",
      "et\n",
      "chunk: content='ane' additional_kwargs={} response_metadata={} id='run-a2127420-f9ca-4a5c-9801-b998fab184b4'\n",
      "metad: {'thread_id': 'user_a_chat_3', 'langgraph_step': 37, 'langgraph_node': 'model', 'langgraph_triggers': ['start:model'], 'langgraph_path': ('__pregel_pull', 'model'), 'langgraph_checkpoint_ns': 'model:3736d1c4-b35f-f088-d80c-55114248dcf5', 'checkpoint_ns': 'model:3736d1c4-b35f-f088-d80c-55114248dcf5', 'ls_provider': 'openai', 'ls_model_name': 'gpt-3.5-turbo', 'ls_model_type': 'chat', 'ls_temperature': 0.7}\n",
      "ane\n",
      "chunk: content='!' additional_kwargs={} response_metadata={} id='run-a2127420-f9ca-4a5c-9801-b998fab184b4'\n",
      "metad: {'thread_id': 'user_a_chat_3', 'langgraph_step': 37, 'langgraph_node': 'model', 'langgraph_triggers': ['start:model'], 'langgraph_path': ('__pregel_pull', 'model'), 'langgraph_checkpoint_ns': 'model:3736d1c4-b35f-f088-d80c-55114248dcf5', 'checkpoint_ns': 'model:3736d1c4-b35f-f088-d80c-55114248dcf5', 'ls_provider': 'openai', 'ls_model_name': 'gpt-3.5-turbo', 'ls_model_type': 'chat', 'ls_temperature': 0.7}\n",
      "!\n",
      "chunk: content='' additional_kwargs={} response_metadata={'finish_reason': 'stop', 'model_name': 'gpt-3.5-turbo-0125'} id='run-a2127420-f9ca-4a5c-9801-b998fab184b4'\n",
      "metad: {'thread_id': 'user_a_chat_3', 'langgraph_step': 37, 'langgraph_node': 'model', 'langgraph_triggers': ['start:model'], 'langgraph_path': ('__pregel_pull', 'model'), 'langgraph_checkpoint_ns': 'model:3736d1c4-b35f-f088-d80c-55114248dcf5', 'checkpoint_ns': 'model:3736d1c4-b35f-f088-d80c-55114248dcf5', 'ls_provider': 'openai', 'ls_model_name': 'gpt-3.5-turbo', 'ls_model_type': 'chat', 'ls_temperature': 0.7}\n",
      "\n"
     ]
    }
   ],
   "source": [
    "for chunk in converse(\"user_a_chat_3\", \"What is my name?\"):\n",
    "    print(chunk)"
   ]
  },
  {
   "cell_type": "code",
   "execution_count": 45,
   "id": "1c1a71fa-4c1f-4cd1-915f-1ebb4079239d",
   "metadata": {},
   "outputs": [],
   "source": [
    "from langchain_core.prompts import ChatPromptTemplate, MessagesPlaceholder\n",
    "\n",
    "prompt = ChatPromptTemplate.from_messages(\n",
    "    [\n",
    "        (\n",
    "            \"system\",\n",
    "            \"You talk like a pirate. Answer all questions to the best of your ability in {language}.\",\n",
    "        ),\n",
    "        MessagesPlaceholder(variable_name=\"messages\"),\n",
    "    ]\n",
    ")"
   ]
  },
  {
   "cell_type": "code",
   "execution_count": 35,
   "id": "56a451d6-713a-41f6-be8a-a5c16a4c44cd",
   "metadata": {},
   "outputs": [
    {
     "data": {
      "text/plain": [
       "[SystemMessage(content=\"you're a good assistant\", additional_kwargs={}, response_metadata={}),\n",
       " HumanMessage(content='whats 2 + 2', additional_kwargs={}, response_metadata={}),\n",
       " AIMessage(content='4', additional_kwargs={}, response_metadata={}),\n",
       " HumanMessage(content='thanks', additional_kwargs={}, response_metadata={}),\n",
       " AIMessage(content='no problem!', additional_kwargs={}, response_metadata={}),\n",
       " HumanMessage(content='having fun?', additional_kwargs={}, response_metadata={}),\n",
       " AIMessage(content='yes!', additional_kwargs={}, response_metadata={})]"
      ]
     },
     "execution_count": 35,
     "metadata": {},
     "output_type": "execute_result"
    }
   ],
   "source": [
    "from langchain_core.messages import SystemMessage, trim_messages\n",
    "\n",
    "trimmer = trim_messages(\n",
    "    max_tokens=65,\n",
    "    strategy=\"last\",\n",
    "    token_counter=model,\n",
    "    include_system=True,\n",
    "    allow_partial=False,\n",
    "    start_on=\"human\",\n",
    ")\n",
    "\n",
    "messages = [\n",
    "    SystemMessage(content=\"you're a good assistant\"),\n",
    "    HumanMessage(content=\"hi! I'm bob\"),\n",
    "    AIMessage(content=\"hi!\"),\n",
    "    HumanMessage(content=\"I like vanilla ice cream\"),\n",
    "    AIMessage(content=\"nice\"),\n",
    "    HumanMessage(content=\"whats 2 + 2\"),\n",
    "    AIMessage(content=\"4\"),\n",
    "    HumanMessage(content=\"thanks\"),\n",
    "    AIMessage(content=\"no problem!\"),\n",
    "    HumanMessage(content=\"having fun?\"),\n",
    "    AIMessage(content=\"yes!\"),\n",
    "]\n",
    "\n",
    "trimmer.invoke(messages)"
   ]
  }
 ],
 "metadata": {
  "kernelspec": {
   "display_name": "Python3 (dhc-synthesis-api)",
   "language": "python",
   "name": "python3-dhc-synthesis-api"
  },
  "language_info": {
   "codemirror_mode": {
    "name": "ipython",
    "version": 3
   },
   "file_extension": ".py",
   "mimetype": "text/x-python",
   "name": "python",
   "nbconvert_exporter": "python",
   "pygments_lexer": "ipython3",
   "version": "3.11.7"
  }
 },
 "nbformat": 4,
 "nbformat_minor": 5
}
